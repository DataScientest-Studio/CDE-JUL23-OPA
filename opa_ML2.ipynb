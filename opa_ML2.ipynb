{
 "cells": [
  {
   "cell_type": "markdown",
   "id": "c26acf20-8296-4350-a43e-fcf791e8a77a",
   "metadata": {},
   "source": [
    "**import des librairies**"
   ]
  },
  {
   "cell_type": "code",
   "execution_count": 65,
   "id": "289d6ce1-caff-45fa-a729-a56e1239cea3",
   "metadata": {},
   "outputs": [],
   "source": [
    "# Les librairies\n",
    "#!pip install pmdarima\n",
    "import pandas as pd\n",
    "import matplotlib.pyplot as plt\n",
    "plt.style.use('seaborn-v0_8-darkgrid')\n",
    "#from statsmodels.tsa.arima.model import ARIMA\n",
    "from pmdarima import ARIMA\n",
    "from statsmodels.graphics.tsaplots import plot_acf, plot_pacf\n",
    "import numpy as np\n",
    "import pymysql\n",
    "from sqlalchemy import create_engine\n",
    "import itertools\n",
    "import os\n",
    "from dotenv import load_dotenv"
   ]
  },
  {
   "cell_type": "markdown",
   "id": "713f60c5-0544-4d3d-8a27-8fcf3199af51",
   "metadata": {},
   "source": [
    "**Lecture des données de la base et mise en forme**"
   ]
  },
  {
   "cell_type": "code",
   "execution_count": 66,
   "id": "5d59958b-9c33-4cc9-aeed-99183d0f11cf",
   "metadata": {},
   "outputs": [
    {
     "name": "stdout",
     "output_type": "stream",
     "text": [
      "valeurs manquantes: 0.0\n",
      "36098\n"
     ]
    },
    {
     "data": {
      "text/html": [
       "<div>\n",
       "<style scoped>\n",
       "    .dataframe tbody tr th:only-of-type {\n",
       "        vertical-align: middle;\n",
       "    }\n",
       "\n",
       "    .dataframe tbody tr th {\n",
       "        vertical-align: top;\n",
       "    }\n",
       "\n",
       "    .dataframe thead th {\n",
       "        text-align: right;\n",
       "    }\n",
       "</style>\n",
       "<table border=\"1\" class=\"dataframe\">\n",
       "  <thead>\n",
       "    <tr style=\"text-align: right;\">\n",
       "      <th></th>\n",
       "      <th>close</th>\n",
       "    </tr>\n",
       "    <tr>\n",
       "      <th>close_time</th>\n",
       "      <th></th>\n",
       "    </tr>\n",
       "  </thead>\n",
       "  <tbody>\n",
       "    <tr>\n",
       "      <th>2020-01-03 10:00:00</th>\n",
       "      <td>6506.73</td>\n",
       "    </tr>\n",
       "    <tr>\n",
       "      <th>2020-01-03 11:00:00</th>\n",
       "      <td>6551.62</td>\n",
       "    </tr>\n",
       "    <tr>\n",
       "      <th>2020-01-03 12:00:00</th>\n",
       "      <td>6565.43</td>\n",
       "    </tr>\n",
       "    <tr>\n",
       "      <th>2020-01-03 13:00:00</th>\n",
       "      <td>6581.57</td>\n",
       "    </tr>\n",
       "    <tr>\n",
       "      <th>2020-01-03 14:00:00</th>\n",
       "      <td>6581.57</td>\n",
       "    </tr>\n",
       "  </tbody>\n",
       "</table>\n",
       "</div>"
      ],
      "text/plain": [
       "                       close\n",
       "close_time                  \n",
       "2020-01-03 10:00:00  6506.73\n",
       "2020-01-03 11:00:00  6551.62\n",
       "2020-01-03 12:00:00  6565.43\n",
       "2020-01-03 13:00:00  6581.57\n",
       "2020-01-03 14:00:00  6581.57"
      ]
     },
     "execution_count": 66,
     "metadata": {},
     "output_type": "execute_result"
    }
   ],
   "source": [
    "# Load environment variables from .env file\n",
    "load_dotenv()\n",
    "\n",
    "# récupération des variables d'environnement\n",
    "host_opa=os.getenv('host')\n",
    "user_opa=os.getenv('user')\n",
    "password_opa=os.getenv('password')\n",
    "database_opa=os.getenv('database')\n",
    "\n",
    "\n",
    "my_conn = create_engine(\"mysql+pymysql://{username}:{pw}@{hostname}/{db}\".format(hostname=host_opa, db=database_opa, username=user_opa, pw=password_opa))\n",
    "\n",
    "\n",
    "df =pd.read_sql('SELECT close_time, close FROM history_Data WHERE symbol_id =1 AND  granularity_id =1',con=my_conn)\n",
    "\n",
    "df = df.set_index('close_time')\n",
    "\n",
    "#df = df.asfreq('H')\n",
    "df = df.asfreq(freq='H', method='bfill')\n",
    "df = df.sort_index()\n",
    "\n",
    "print(f'valeurs manquantes: {df.isnull().any(axis=1).mean()}')\n",
    "print(len(df))\n",
    "df.head()"
   ]
  },
  {
   "cell_type": "markdown",
   "id": "65b101aa-07cf-4060-b7e9-4512e3dd4b43",
   "metadata": {},
   "source": [
    "**Division en jeux de données d'entraimenet et de test**"
   ]
  },
  {
   "cell_type": "code",
   "execution_count": 32,
   "id": "e1c3ce17-2f6a-4c68-b9d3-4d3deb459304",
   "metadata": {},
   "outputs": [],
   "source": [
    "end_train = '2023-06-30 23:00:00'\n",
    "df_train = df.loc[:end_train]\n",
    "df_test  = df.loc[end_train:]"
   ]
  },
  {
   "cell_type": "markdown",
   "id": "9cd7e0b4-69e1-4a43-8ff2-ccb5b1eb0173",
   "metadata": {},
   "source": [
    "**Determination de l'ordre de différenciation  de la serie 'd'**"
   ]
  },
  {
   "cell_type": "code",
   "execution_count": 4,
   "id": "431c84c0-f11c-4da6-8d5f-65b60eb7fbd6",
   "metadata": {},
   "outputs": [
    {
     "name": "stdout",
     "output_type": "stream",
     "text": [
      "nombre de diff: 1\n"
     ]
    }
   ],
   "source": [
    "# Nombre de diff\n",
    "#!pipenv install --skip-lock \n",
    "#!pip install pmdarima\n",
    "from pmdarima.arima.utils import ndiffs\n",
    "\n",
    "d=ndiffs(df.close, test='adf')\n",
    "print (\"nombre de diff:\",d)"
   ]
  },
  {
   "cell_type": "markdown",
   "id": "734c2d82-a937-4060-817e-74812d2b0886",
   "metadata": {},
   "source": [
    "**choix des meilleurs parametres**"
   ]
  },
  {
   "cell_type": "code",
   "execution_count": 7,
   "id": "7b9a9006-62f6-4767-8a4c-c2ba7703e11e",
   "metadata": {},
   "outputs": [
    {
     "name": "stdout",
     "output_type": "stream",
     "text": [
      "(0, 0, 0) 668616.6241329169\n",
      "(0, 0, 1) 626948.6357582242\n",
      "(0, 0, 2) 589518.8461165015\n",
      "(0, 1, 0) 415463.7980138792\n",
      "(0, 1, 1) 415463.1526643876\n",
      "(0, 1, 2) 415454.5366746906\n",
      "(0, 2, 0) 436931.4230366956\n",
      "(0, 2, 1) 415466.6213836222\n",
      "(0, 2, 2) 415465.65249215823\n",
      "(1, 0, 0) 415486.0328819546\n",
      "(1, 0, 1) 415486.5341335956\n",
      "(1, 0, 2) 415478.1164862802\n",
      "(1, 1, 0) 415463.24779214244\n",
      "(1, 1, 1) 415453.8504724194\n",
      "(1, 1, 2) 415456.07629357046\n",
      "(1, 2, 0) 428312.1862016602\n",
      "(1, 2, 1) 415465.8388244982\n",
      "(1, 2, 2) 415470.16620187636\n",
      "(2, 0, 0) 415486.59636856243\n"
     ]
    },
    {
     "name": "stderr",
     "output_type": "stream",
     "text": [
      "/home/jsaye/.local/lib/python3.10/site-packages/statsmodels/tsa/statespace/sarimax.py:966: UserWarning: Non-stationary starting autoregressive parameters found. Using zeros as starting parameters.\n",
      "  warn('Non-stationary starting autoregressive parameters'\n",
      "/home/jsaye/.local/lib/python3.10/site-packages/statsmodels/tsa/statespace/sarimax.py:978: UserWarning: Non-invertible starting MA parameters found. Using zeros as starting parameters.\n",
      "  warn('Non-invertible starting MA parameters found.'\n"
     ]
    },
    {
     "name": "stdout",
     "output_type": "stream",
     "text": [
      "(2, 0, 1) 415478.0073165911\n",
      "(2, 0, 2) 415478.675850167\n",
      "(2, 1, 0) 415455.27801333787\n",
      "(2, 1, 1) 415456.90593942377\n",
      "(2, 1, 2) 415449.276917563\n",
      "(2, 2, 0) 424500.4097852275\n",
      "(2, 2, 1) 415456.57917777286\n",
      "(2, 2, 2) 415468.3164419417\n"
     ]
    }
   ],
   "source": [
    "p=d=q=range(0,3)\n",
    "pdq=list(itertools.product(p,d,q))\n",
    "for param in pdq:\n",
    "    try:\n",
    "        model_arima = ARIMA(order = param)\n",
    "        model_arima_fit = model_arima.fit(y=df_train)\n",
    "        print(param, model_arima_fit.aic())\n",
    "    except:\n",
    "        continue"
   ]
  },
  {
   "cell_type": "markdown",
   "id": "37f07619-4796-4495-8e56-4e1f8cc74490",
   "metadata": {},
   "source": [
    "**Entrainement du model**"
   ]
  },
  {
   "cell_type": "markdown",
   "id": "ce319e8d-5653-4978-bd1d-d227fc197e6a",
   "metadata": {},
   "source": [
    "On peut choisir p =0 (PACF) et q= 0 (ACF). On peut constater aussi que  l'AIF optimal est obtenue pour (0,1,0)"
   ]
  },
  {
   "cell_type": "code",
   "execution_count": 42,
   "id": "4be4ad19-f4a6-4c3d-8892-8e5bb766899d",
   "metadata": {},
   "outputs": [
    {
     "data": {
      "text/html": [
       "<table class=\"simpletable\">\n",
       "<caption>SARIMAX Results</caption>\n",
       "<tr>\n",
       "  <th>Dep. Variable:</th>           <td>y</td>        <th>  No. Observations:  </th>    <td>30590</td>   \n",
       "</tr>\n",
       "<tr>\n",
       "  <th>Model:</th>           <td>SARIMAX(2, 1, 2)</td> <th>  Log Likelihood     </th> <td>-207718.638</td>\n",
       "</tr>\n",
       "<tr>\n",
       "  <th>Date:</th>            <td>Sat, 24 Feb 2024</td> <th>  AIC                </th> <td>415449.277</td> \n",
       "</tr>\n",
       "<tr>\n",
       "  <th>Time:</th>                <td>19:45:00</td>     <th>  BIC                </th> <td>415499.247</td> \n",
       "</tr>\n",
       "<tr>\n",
       "  <th>Sample:</th>             <td>01-03-2020</td>    <th>  HQIC               </th> <td>415465.296</td> \n",
       "</tr>\n",
       "<tr>\n",
       "  <th></th>                   <td>- 06-30-2023</td>   <th>                     </th>      <td> </td>     \n",
       "</tr>\n",
       "<tr>\n",
       "  <th>Covariance Type:</th>        <td>opg</td>       <th>                     </th>      <td> </td>     \n",
       "</tr>\n",
       "</table>\n",
       "<table class=\"simpletable\">\n",
       "<tr>\n",
       "      <td></td>         <th>coef</th>     <th>std err</th>      <th>z</th>      <th>P>|z|</th>  <th>[0.025</th>    <th>0.975]</th>  \n",
       "</tr>\n",
       "<tr>\n",
       "  <th>intercept</th> <td>    0.7247</td> <td>    0.708</td> <td>    1.023</td> <td> 0.306</td> <td>   -0.663</td> <td>    2.113</td>\n",
       "</tr>\n",
       "<tr>\n",
       "  <th>ar.L1</th>     <td>    0.0887</td> <td>    0.133</td> <td>    0.665</td> <td> 0.506</td> <td>   -0.173</td> <td>    0.350</td>\n",
       "</tr>\n",
       "<tr>\n",
       "  <th>ar.L2</th>     <td>    0.3372</td> <td>    0.110</td> <td>    3.075</td> <td> 0.002</td> <td>    0.122</td> <td>    0.552</td>\n",
       "</tr>\n",
       "<tr>\n",
       "  <th>ma.L1</th>     <td>   -0.0969</td> <td>    0.133</td> <td>   -0.730</td> <td> 0.465</td> <td>   -0.357</td> <td>    0.163</td>\n",
       "</tr>\n",
       "<tr>\n",
       "  <th>ma.L2</th>     <td>   -0.3602</td> <td>    0.109</td> <td>   -3.290</td> <td> 0.001</td> <td>   -0.575</td> <td>   -0.146</td>\n",
       "</tr>\n",
       "<tr>\n",
       "  <th>sigma2</th>    <td> 4.635e+04</td> <td>  117.436</td> <td>  394.661</td> <td> 0.000</td> <td> 4.61e+04</td> <td> 4.66e+04</td>\n",
       "</tr>\n",
       "</table>\n",
       "<table class=\"simpletable\">\n",
       "<tr>\n",
       "  <th>Ljung-Box (L1) (Q):</th>     <td>0.05</td> <th>  Jarque-Bera (JB):  </th> <td>447904.95</td>\n",
       "</tr>\n",
       "<tr>\n",
       "  <th>Prob(Q):</th>                <td>0.83</td> <th>  Prob(JB):          </th>   <td>0.00</td>   \n",
       "</tr>\n",
       "<tr>\n",
       "  <th>Heteroskedasticity (H):</th> <td>0.65</td> <th>  Skew:              </th>   <td>-0.32</td>  \n",
       "</tr>\n",
       "<tr>\n",
       "  <th>Prob(H) (two-sided):</th>    <td>0.00</td> <th>  Kurtosis:          </th>   <td>21.74</td>  \n",
       "</tr>\n",
       "</table><br/><br/>Warnings:<br/>[1] Covariance matrix calculated using the outer product of gradients (complex-step)."
      ],
      "text/latex": [
       "\\begin{center}\n",
       "\\begin{tabular}{lclc}\n",
       "\\toprule\n",
       "\\textbf{Dep. Variable:}          &        y         & \\textbf{  No. Observations:  } &    30590     \\\\\n",
       "\\textbf{Model:}                  & SARIMAX(2, 1, 2) & \\textbf{  Log Likelihood     } & -207718.638  \\\\\n",
       "\\textbf{Date:}                   & Sat, 24 Feb 2024 & \\textbf{  AIC                } &  415449.277  \\\\\n",
       "\\textbf{Time:}                   &     19:45:00     & \\textbf{  BIC                } &  415499.247  \\\\\n",
       "\\textbf{Sample:}                 &    01-03-2020    & \\textbf{  HQIC               } &  415465.296  \\\\\n",
       "\\textbf{}                        &   - 06-30-2023   & \\textbf{                     } &              \\\\\n",
       "\\textbf{Covariance Type:}        &       opg        & \\textbf{                     } &              \\\\\n",
       "\\bottomrule\n",
       "\\end{tabular}\n",
       "\\begin{tabular}{lcccccc}\n",
       "                   & \\textbf{coef} & \\textbf{std err} & \\textbf{z} & \\textbf{P$> |$z$|$} & \\textbf{[0.025} & \\textbf{0.975]}  \\\\\n",
       "\\midrule\n",
       "\\textbf{intercept} &       0.7247  &        0.708     &     1.023  &         0.306        &       -0.663    &        2.113     \\\\\n",
       "\\textbf{ar.L1}     &       0.0887  &        0.133     &     0.665  &         0.506        &       -0.173    &        0.350     \\\\\n",
       "\\textbf{ar.L2}     &       0.3372  &        0.110     &     3.075  &         0.002        &        0.122    &        0.552     \\\\\n",
       "\\textbf{ma.L1}     &      -0.0969  &        0.133     &    -0.730  &         0.465        &       -0.357    &        0.163     \\\\\n",
       "\\textbf{ma.L2}     &      -0.3602  &        0.109     &    -3.290  &         0.001        &       -0.575    &       -0.146     \\\\\n",
       "\\textbf{sigma2}    &    4.635e+04  &      117.436     &   394.661  &         0.000        &     4.61e+04    &     4.66e+04     \\\\\n",
       "\\bottomrule\n",
       "\\end{tabular}\n",
       "\\begin{tabular}{lclc}\n",
       "\\textbf{Ljung-Box (L1) (Q):}     & 0.05 & \\textbf{  Jarque-Bera (JB):  } & 447904.95  \\\\\n",
       "\\textbf{Prob(Q):}                & 0.83 & \\textbf{  Prob(JB):          } &    0.00    \\\\\n",
       "\\textbf{Heteroskedasticity (H):} & 0.65 & \\textbf{  Skew:              } &   -0.32    \\\\\n",
       "\\textbf{Prob(H) (two-sided):}    & 0.00 & \\textbf{  Kurtosis:          } &   21.74    \\\\\n",
       "\\bottomrule\n",
       "\\end{tabular}\n",
       "%\\caption{SARIMAX Results}\n",
       "\\end{center}\n",
       "\n",
       "Warnings: \\newline\n",
       " [1] Covariance matrix calculated using the outer product of gradients (complex-step)."
      ],
      "text/plain": [
       "<class 'statsmodels.iolib.summary.Summary'>\n",
       "\"\"\"\n",
       "                               SARIMAX Results                                \n",
       "==============================================================================\n",
       "Dep. Variable:                      y   No. Observations:                30590\n",
       "Model:               SARIMAX(2, 1, 2)   Log Likelihood             -207718.638\n",
       "Date:                Sat, 24 Feb 2024   AIC                         415449.277\n",
       "Time:                        19:45:00   BIC                         415499.247\n",
       "Sample:                    01-03-2020   HQIC                        415465.296\n",
       "                         - 06-30-2023                                         \n",
       "Covariance Type:                  opg                                         \n",
       "==============================================================================\n",
       "                 coef    std err          z      P>|z|      [0.025      0.975]\n",
       "------------------------------------------------------------------------------\n",
       "intercept      0.7247      0.708      1.023      0.306      -0.663       2.113\n",
       "ar.L1          0.0887      0.133      0.665      0.506      -0.173       0.350\n",
       "ar.L2          0.3372      0.110      3.075      0.002       0.122       0.552\n",
       "ma.L1         -0.0969      0.133     -0.730      0.465      -0.357       0.163\n",
       "ma.L2         -0.3602      0.109     -3.290      0.001      -0.575      -0.146\n",
       "sigma2      4.635e+04    117.436    394.661      0.000    4.61e+04    4.66e+04\n",
       "===================================================================================\n",
       "Ljung-Box (L1) (Q):                   0.05   Jarque-Bera (JB):            447904.95\n",
       "Prob(Q):                              0.83   Prob(JB):                         0.00\n",
       "Heteroskedasticity (H):               0.65   Skew:                            -0.32\n",
       "Prob(H) (two-sided):                  0.00   Kurtosis:                        21.74\n",
       "===================================================================================\n",
       "\n",
       "Warnings:\n",
       "[1] Covariance matrix calculated using the outer product of gradients (complex-step).\n",
       "\"\"\""
      ]
     },
     "execution_count": 42,
     "metadata": {},
     "output_type": "execute_result"
    }
   ],
   "source": [
    "\n",
    "model_arima = ARIMA(order = (2,1,2))\n",
    "model_arima_fit = model_arima.fit(y=df_train)\n",
    "model_arima_fit.summary()"
   ]
  },
  {
   "cell_type": "markdown",
   "id": "841a4499-0803-40d2-8767-97c2ed93c649",
   "metadata": {},
   "source": [
    "**Prédiction pour comparaison avec les données de tests**"
   ]
  },
  {
   "cell_type": "code",
   "execution_count": 43,
   "id": "f49b78b1-bcda-49de-a92d-1038706a542e",
   "metadata": {},
   "outputs": [
    {
     "data": {
      "text/plain": [
       "2023-07-01 00:00:00    27987.971471\n",
       "2023-07-01 01:00:00    27987.452128\n",
       "2023-07-01 02:00:00    27988.188558\n",
       "2023-07-01 03:00:00    27988.803381\n",
       "2023-07-01 04:00:00    27989.830863\n",
       "Freq: H, Name: predictions_ARIMA, dtype: float64"
      ]
     },
     "metadata": {},
     "output_type": "display_data"
    }
   ],
   "source": [
    "# Prediction\n",
    "# ==============================================================================\n",
    "predictions_ARIMA = model_arima_fit.predict(len(df_test))\n",
    "predictions_ARIMA.name = 'predictions_ARIMA'\n",
    "display(predictions_ARIMA.head(5))"
   ]
  },
  {
   "cell_type": "markdown",
   "id": "a77c29b0-81c4-4e26-ba24-e6a26b5ea297",
   "metadata": {},
   "source": [
    "**Graphe de comparaison prédiction vs test**"
   ]
  },
  {
   "cell_type": "code",
   "execution_count": 44,
   "id": "adcb991e-3c2d-49b7-9cbb-73b7f68fe963",
   "metadata": {},
   "outputs": [
    {
     "data": {
      "image/png": "[encoded data removed]",
      "text/plain": [
       "<Figure size 700x300 with 1 Axes>"
      ]
     },
     "metadata": {},
     "output_type": "display_data"
    }
   ],
   "source": [
    "# Plot predictions\n",
    "# ==============================================================================\n",
    "fig, ax = plt.subplots(figsize=(7, 3))\n",
    "#df_train.plot(ax=ax, label='train')\n",
    "df_train['close'].plot(ax=ax, label='train')\n",
    "df_test['close'].plot(ax=ax, label='test')\n",
    "predictions_ARIMA.plot(ax=ax, label='ARIMA_pred')\n",
    "ax.set_title('Predictions with ARIMA models')\n",
    "ax.legend();\n"
   ]
  },
  {
   "cell_type": "markdown",
   "id": "7cc70261-ef51-4d97-9932-092ef68e68a3",
   "metadata": {},
   "source": [
    "**Re-entrainement sur tous le jeux de données**"
   ]
  },
  {
   "cell_type": "code",
   "execution_count": 46,
   "id": "28a67e6a-ef6a-46d4-9007-862b2c31bd9e",
   "metadata": {},
   "outputs": [
    {
     "data": {
      "text/html": [
       "<table class=\"simpletable\">\n",
       "<caption>SARIMAX Results</caption>\n",
       "<tr>\n",
       "  <th>Dep. Variable:</th>           <td>y</td>        <th>  No. Observations:  </th>    <td>36098</td>   \n",
       "</tr>\n",
       "<tr>\n",
       "  <th>Model:</th>           <td>SARIMAX(2, 1, 2)</td> <th>  Log Likelihood     </th> <td>-243554.604</td>\n",
       "</tr>\n",
       "<tr>\n",
       "  <th>Date:</th>            <td>Sat, 24 Feb 2024</td> <th>  AIC                </th> <td>487121.208</td> \n",
       "</tr>\n",
       "<tr>\n",
       "  <th>Time:</th>                <td>19:50:58</td>     <th>  BIC                </th> <td>487172.172</td> \n",
       "</tr>\n",
       "<tr>\n",
       "  <th>Sample:</th>             <td>01-03-2020</td>    <th>  HQIC               </th> <td>487137.418</td> \n",
       "</tr>\n",
       "<tr>\n",
       "  <th></th>                   <td>- 02-15-2024</td>   <th>                     </th>      <td> </td>     \n",
       "</tr>\n",
       "<tr>\n",
       "  <th>Covariance Type:</th>        <td>opg</td>       <th>                     </th>      <td> </td>     \n",
       "</tr>\n",
       "</table>\n",
       "<table class=\"simpletable\">\n",
       "<tr>\n",
       "      <td></td>         <th>coef</th>     <th>std err</th>      <th>z</th>      <th>P>|z|</th>  <th>[0.025</th>    <th>0.975]</th>  \n",
       "</tr>\n",
       "<tr>\n",
       "  <th>intercept</th> <td>    1.1966</td> <td>    0.670</td> <td>    1.785</td> <td> 0.074</td> <td>   -0.117</td> <td>    2.510</td>\n",
       "</tr>\n",
       "<tr>\n",
       "  <th>ar.L1</th>     <td>    0.1306</td> <td>    0.182</td> <td>    0.719</td> <td> 0.472</td> <td>   -0.225</td> <td>    0.486</td>\n",
       "</tr>\n",
       "<tr>\n",
       "  <th>ar.L2</th>     <td>    0.2803</td> <td>    0.141</td> <td>    1.986</td> <td> 0.047</td> <td>    0.004</td> <td>    0.557</td>\n",
       "</tr>\n",
       "<tr>\n",
       "  <th>ma.L1</th>     <td>   -0.1418</td> <td>    0.181</td> <td>   -0.783</td> <td> 0.434</td> <td>   -0.497</td> <td>    0.213</td>\n",
       "</tr>\n",
       "<tr>\n",
       "  <th>ma.L2</th>     <td>   -0.2990</td> <td>    0.142</td> <td>   -2.103</td> <td> 0.035</td> <td>   -0.578</td> <td>   -0.020</td>\n",
       "</tr>\n",
       "<tr>\n",
       "  <th>sigma2</th>    <td> 4.249e+04</td> <td>   97.067</td> <td>  437.716</td> <td> 0.000</td> <td> 4.23e+04</td> <td> 4.27e+04</td>\n",
       "</tr>\n",
       "</table>\n",
       "<table class=\"simpletable\">\n",
       "<tr>\n",
       "  <th>Ljung-Box (L1) (Q):</th>     <td>0.02</td> <th>  Jarque-Bera (JB):  </th> <td>581304.85</td>\n",
       "</tr>\n",
       "<tr>\n",
       "  <th>Prob(Q):</th>                <td>0.88</td> <th>  Prob(JB):          </th>   <td>0.00</td>   \n",
       "</tr>\n",
       "<tr>\n",
       "  <th>Heteroskedasticity (H):</th> <td>0.35</td> <th>  Skew:              </th>   <td>-0.31</td>  \n",
       "</tr>\n",
       "<tr>\n",
       "  <th>Prob(H) (two-sided):</th>    <td>0.00</td> <th>  Kurtosis:          </th>   <td>22.65</td>  \n",
       "</tr>\n",
       "</table><br/><br/>Warnings:<br/>[1] Covariance matrix calculated using the outer product of gradients (complex-step)."
      ],
      "text/latex": [
       "\\begin{center}\n",
       "\\begin{tabular}{lclc}\n",
       "\\toprule\n",
       "\\textbf{Dep. Variable:}          &        y         & \\textbf{  No. Observations:  } &    36098     \\\\\n",
       "\\textbf{Model:}                  & SARIMAX(2, 1, 2) & \\textbf{  Log Likelihood     } & -243554.604  \\\\\n",
       "\\textbf{Date:}                   & Sat, 24 Feb 2024 & \\textbf{  AIC                } &  487121.208  \\\\\n",
       "\\textbf{Time:}                   &     19:50:58     & \\textbf{  BIC                } &  487172.172  \\\\\n",
       "\\textbf{Sample:}                 &    01-03-2020    & \\textbf{  HQIC               } &  487137.418  \\\\\n",
       "\\textbf{}                        &   - 02-15-2024   & \\textbf{                     } &              \\\\\n",
       "\\textbf{Covariance Type:}        &       opg        & \\textbf{                     } &              \\\\\n",
       "\\bottomrule\n",
       "\\end{tabular}\n",
       "\\begin{tabular}{lcccccc}\n",
       "                   & \\textbf{coef} & \\textbf{std err} & \\textbf{z} & \\textbf{P$> |$z$|$} & \\textbf{[0.025} & \\textbf{0.975]}  \\\\\n",
       "\\midrule\n",
       "\\textbf{intercept} &       1.1966  &        0.670     &     1.785  &         0.074        &       -0.117    &        2.510     \\\\\n",
       "\\textbf{ar.L1}     &       0.1306  &        0.182     &     0.719  &         0.472        &       -0.225    &        0.486     \\\\\n",
       "\\textbf{ar.L2}     &       0.2803  &        0.141     &     1.986  &         0.047        &        0.004    &        0.557     \\\\\n",
       "\\textbf{ma.L1}     &      -0.1418  &        0.181     &    -0.783  &         0.434        &       -0.497    &        0.213     \\\\\n",
       "\\textbf{ma.L2}     &      -0.2990  &        0.142     &    -2.103  &         0.035        &       -0.578    &       -0.020     \\\\\n",
       "\\textbf{sigma2}    &    4.249e+04  &       97.067     &   437.716  &         0.000        &     4.23e+04    &     4.27e+04     \\\\\n",
       "\\bottomrule\n",
       "\\end{tabular}\n",
       "\\begin{tabular}{lclc}\n",
       "\\textbf{Ljung-Box (L1) (Q):}     & 0.02 & \\textbf{  Jarque-Bera (JB):  } & 581304.85  \\\\\n",
       "\\textbf{Prob(Q):}                & 0.88 & \\textbf{  Prob(JB):          } &    0.00    \\\\\n",
       "\\textbf{Heteroskedasticity (H):} & 0.35 & \\textbf{  Skew:              } &   -0.31    \\\\\n",
       "\\textbf{Prob(H) (two-sided):}    & 0.00 & \\textbf{  Kurtosis:          } &   22.65    \\\\\n",
       "\\bottomrule\n",
       "\\end{tabular}\n",
       "%\\caption{SARIMAX Results}\n",
       "\\end{center}\n",
       "\n",
       "Warnings: \\newline\n",
       " [1] Covariance matrix calculated using the outer product of gradients (complex-step)."
      ],
      "text/plain": [
       "<class 'statsmodels.iolib.summary.Summary'>\n",
       "\"\"\"\n",
       "                               SARIMAX Results                                \n",
       "==============================================================================\n",
       "Dep. Variable:                      y   No. Observations:                36098\n",
       "Model:               SARIMAX(2, 1, 2)   Log Likelihood             -243554.604\n",
       "Date:                Sat, 24 Feb 2024   AIC                         487121.208\n",
       "Time:                        19:50:58   BIC                         487172.172\n",
       "Sample:                    01-03-2020   HQIC                        487137.418\n",
       "                         - 02-15-2024                                         \n",
       "Covariance Type:                  opg                                         \n",
       "==============================================================================\n",
       "                 coef    std err          z      P>|z|      [0.025      0.975]\n",
       "------------------------------------------------------------------------------\n",
       "intercept      1.1966      0.670      1.785      0.074      -0.117       2.510\n",
       "ar.L1          0.1306      0.182      0.719      0.472      -0.225       0.486\n",
       "ar.L2          0.2803      0.141      1.986      0.047       0.004       0.557\n",
       "ma.L1         -0.1418      0.181     -0.783      0.434      -0.497       0.213\n",
       "ma.L2         -0.2990      0.142     -2.103      0.035      -0.578      -0.020\n",
       "sigma2      4.249e+04     97.067    437.716      0.000    4.23e+04    4.27e+04\n",
       "===================================================================================\n",
       "Ljung-Box (L1) (Q):                   0.02   Jarque-Bera (JB):            581304.85\n",
       "Prob(Q):                              0.88   Prob(JB):                         0.00\n",
       "Heteroskedasticity (H):               0.35   Skew:                            -0.31\n",
       "Prob(H) (two-sided):                  0.00   Kurtosis:                        22.65\n",
       "===================================================================================\n",
       "\n",
       "Warnings:\n",
       "[1] Covariance matrix calculated using the outer product of gradients (complex-step).\n",
       "\"\"\""
      ]
     },
     "execution_count": 46,
     "metadata": {},
     "output_type": "execute_result"
    }
   ],
   "source": [
    "model_arima = ARIMA(order = (2,1,2))\n",
    "model_arima_fit = model_arima.fit(y=df)\n",
    "model_arima_fit.summary()"
   ]
  },
  {
   "cell_type": "markdown",
   "id": "50a4b2d0-cab6-4a98-aba5-d01cdae7d132",
   "metadata": {},
   "source": [
    "**prédiction pour les 6000 heures suivantes**"
   ]
  },
  {
   "cell_type": "code",
   "execution_count": 47,
   "id": "b389c527-765c-4eaf-acbb-0089d1e693e8",
   "metadata": {},
   "outputs": [
    {
     "data": {
      "text/plain": [
       "48475.26435809871"
      ]
     },
     "execution_count": 47,
     "metadata": {},
     "output_type": "execute_result"
    }
   ],
   "source": [
    "#prédiction de future valeur\n",
    "pred_price= model_arima_fit.predict(6000)\n",
    "#pred_price.tail()\n",
    "pred_price.loc['2024-02-15 20:00:0']"
   ]
  },
  {
   "cell_type": "markdown",
   "id": "ec6fbba2-a3fd-4cf2-abee-870648285e79",
   "metadata": {},
   "source": [
    "**Enregistrement du model dans un fichier sur le disk**"
   ]
  },
  {
   "cell_type": "code",
   "execution_count": 48,
   "id": "7ca55823-7596-4afa-bb0a-9a9dd54e0cd0",
   "metadata": {},
   "outputs": [],
   "source": [
    "import pickle\n",
    "# enregistrer le model sur le disk\n",
    "filename = 'ARIMA_model.sav'\n",
    "pickle.dump(model_arima_fit, open(filename, 'wb'))"
   ]
  },
  {
   "cell_type": "markdown",
   "id": "f3998fd0-60eb-4363-a63d-0f1b55867a33",
   "metadata": {},
   "source": [
    "**Rechargement du modèl**"
   ]
  },
  {
   "cell_type": "code",
   "execution_count": 63,
   "id": "cc403583-3c9a-4133-b139-aa9615d1b5d6",
   "metadata": {},
   "outputs": [
    {
     "data": {
      "text/plain": [
       "5000"
      ]
     },
     "execution_count": 63,
     "metadata": {},
     "output_type": "execute_result"
    }
   ],
   "source": [
    "# rechargement model\n",
    "loaded_model = pickle.load(open(filename, 'rb'))\n",
    "\n",
    "pred_price1 = loaded_model.predict(5000)\n",
    "pred_price1.loc['2024-02-25 20:00:00']\n",
    "len(pred_price1)"
   ]
  },
  {
   "cell_type": "code",
   "execution_count": null,
   "id": "7cbf0113-4e4b-46b3-ba37-536dc4621ef6",
   "metadata": {},
   "outputs": [],
   "source": []
  }
 ],
 "metadata": {
  "kernelspec": {
   "display_name": "Python 3 (ipykernel)",
   "language": "python",
   "name": "python3"
  },
  "language_info": {
   "codemirror_mode": {
    "name": "ipython",
    "version": 3
   },
   "file_extension": ".py",
   "mimetype": "text/x-python",
   "name": "python",
   "nbconvert_exporter": "python",
   "pygments_lexer": "ipython3",
   "version": "3.10.12"
  }
 },
 "nbformat": 4,
 "nbformat_minor": 5
}
